{
 "cells": [
  {
   "cell_type": "markdown",
   "id": "6a9d3008",
   "metadata": {},
   "source": [
    "#ASSIGNMENT 5\n",
    "\n"
   ]
  },
  {
   "cell_type": "code",
   "execution_count": 1,
   "id": "170efaae",
   "metadata": {},
   "outputs": [],
   "source": [
    "#1. What does an empty dictionary's code look like?\n",
    "dic={}\n",
    "dic = dict()"
   ]
  },
  {
   "cell_type": "code",
   "execution_count": 15,
   "id": "4b103abc",
   "metadata": {},
   "outputs": [
    {
     "data": {
      "text/plain": [
       "42"
      ]
     },
     "execution_count": 15,
     "metadata": {},
     "output_type": "execute_result"
    }
   ],
   "source": [
    "#What is the value of a dictionary value with the key 'foo' and the value 42?\n",
    "d= {\"foo\":42}\n",
    "d[\"foo\"]"
   ]
  },
  {
   "cell_type": "markdown",
   "id": "4cc1c2e6",
   "metadata": {},
   "source": [
    "3. What is the most significant distinction between a dictionary and a list?\n",
    "The most significant difference between a dictionary and a list is their structure, dictionary is contained in {} and list is in contained in []"
   ]
  },
  {
   "cell_type": "code",
   "execution_count": 3,
   "id": "db237548",
   "metadata": {},
   "outputs": [
    {
     "ename": "KeyError",
     "evalue": "'foo'",
     "output_type": "error",
     "traceback": [
      "\u001b[1;31m---------------------------------------------------------------------------\u001b[0m",
      "\u001b[1;31mKeyError\u001b[0m                                  Traceback (most recent call last)",
      "Cell \u001b[1;32mIn[3], line 3\u001b[0m\n\u001b[0;32m      1\u001b[0m \u001b[38;5;66;03m#What happens if you try to access spam['foo'] if spam is {'bar': 100}?\u001b[39;00m\n\u001b[0;32m      2\u001b[0m spam \u001b[38;5;241m=\u001b[39m{\u001b[38;5;124m\"\u001b[39m\u001b[38;5;124mbar\u001b[39m\u001b[38;5;124m\"\u001b[39m:\u001b[38;5;241m100\u001b[39m}\n\u001b[1;32m----> 3\u001b[0m \u001b[43mspam\u001b[49m\u001b[43m[\u001b[49m\u001b[38;5;124;43m\"\u001b[39;49m\u001b[38;5;124;43mfoo\u001b[39;49m\u001b[38;5;124;43m\"\u001b[39;49m\u001b[43m]\u001b[49m\n",
      "\u001b[1;31mKeyError\u001b[0m: 'foo'"
     ]
    }
   ],
   "source": [
    "#What happens if you try to access spam['foo'] if spam is {'bar': 100}?\n",
    "spam ={\"bar\":100}\n",
    "spam[\"foo\"]\n",
    "#an error will occur"
   ]
  },
  {
   "cell_type": "code",
   "execution_count": 7,
   "id": "16ae9039",
   "metadata": {},
   "outputs": [
    {
     "data": {
      "text/plain": [
       "True"
      ]
     },
     "execution_count": 7,
     "metadata": {},
     "output_type": "execute_result"
    }
   ],
   "source": [
    "#If a dictionary is stored in spam, what is the difference between the expressions 'cat' in spam and 'cat' in spam.keys()?\n",
    "spam={\"cat\":\"value\"}\n",
    "\"cat\" in spam\n",
    "\"cat\" in spam.keys()\n",
    "#There is no difference both will same output i.e. is \"True\""
   ]
  },
  {
   "cell_type": "code",
   "execution_count": 14,
   "id": "b79c7213",
   "metadata": {},
   "outputs": [
    {
     "name": "stdout",
     "output_type": "stream",
     "text": [
      "True\n",
      "False\n"
     ]
    }
   ],
   "source": [
    "# If a dictionary is stored in spam, what is the difference between the expressions 'cat' in spam and 'cat' in spam.values()?\n",
    "spam = {\"cat\":\"value1\"}\n",
    "print(\"cat\" in spam)\n",
    "\n",
    "print(\"cat\" in spam.values())"
   ]
  },
  {
   "cell_type": "code",
   "execution_count": 23,
   "id": "eafe5301",
   "metadata": {},
   "outputs": [
    {
     "name": "stdout",
     "output_type": "stream",
     "text": [
      "{'cat': 'value1', 'color': 'black'}\n",
      "{'cat': 'value1', 'color': 'black'}\n"
     ]
    }
   ],
   "source": [
    "#7. What is a shortcut for the following code?\n",
    "#if 'color' not in spam:\n",
    "    #spam['color'] = 'black'\n",
    "print(spam)\n",
    "spam.setdefault(\"color\",\"black\")\n",
    "print(spam)\n",
    "\n",
    "\n"
   ]
  },
  {
   "cell_type": "code",
   "execution_count": null,
   "id": "6c846d52",
   "metadata": {},
   "outputs": [],
   "source": [
    "#How do you \"pretty print\" dictionary values using which module and function?"
   ]
  },
  {
   "cell_type": "code",
   "execution_count": 25,
   "id": "cd120ca4",
   "metadata": {},
   "outputs": [
    {
     "name": "stdout",
     "output_type": "stream",
     "text": [
      "{'age': 30,\n",
      " 'hobbies': ['reading', 'hiking', 'cooking'],\n",
      " 'name': 'John Doe',\n",
      " 'occupation': 'engineer'}\n"
     ]
    }
   ],
   "source": [
    "import pprint\n",
    "\n",
    "my_dict = {'name': 'John Doe', 'age': 30, 'occupation': 'engineer', 'hobbies': ['reading', 'hiking', 'cooking']}\n",
    "\n",
    "pprint.pprint(my_dict)\n"
   ]
  }
 ],
 "metadata": {
  "kernelspec": {
   "display_name": "Python 3 (ipykernel)",
   "language": "python",
   "name": "python3"
  },
  "language_info": {
   "codemirror_mode": {
    "name": "ipython",
    "version": 3
   },
   "file_extension": ".py",
   "mimetype": "text/x-python",
   "name": "python",
   "nbconvert_exporter": "python",
   "pygments_lexer": "ipython3",
   "version": "3.10.9"
  }
 },
 "nbformat": 4,
 "nbformat_minor": 5
}
